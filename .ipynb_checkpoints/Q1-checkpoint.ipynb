{
 "cells": [
  {
   "cell_type": "markdown",
   "metadata": {},
   "source": [
    "# Geographical Dispersement of Data"
   ]
  },
  {
   "cell_type": "code",
   "execution_count": 1,
   "metadata": {},
   "outputs": [],
   "source": [
    "import pandas as pd\n",
    "import matplotlib.pyplot as plt \n",
    "import seaborn as sns\n",
    "import numpy as np\n",
    "import plotly\n",
    "import plotly.express as px\n",
    "\n",
    "pd.set_option('display.max_columns', None)\n",
    "\n",
    "%matplotlib inline"
   ]
  },
  {
   "cell_type": "code",
   "execution_count": 3,
   "metadata": {},
   "outputs": [],
   "source": [
    "df = pd.read_csv('Data/honey-bee-annotated-images/bee_dataset_clean.csv')\n",
    "bee_dispersement = pd.read_csv('Data/bee_dispersement.csv')"
   ]
  },
  {
   "cell_type": "code",
   "execution_count": 8,
   "metadata": {},
   "outputs": [
    {
     "data": {
      "text/html": [
       "<div>\n",
       "<style scoped>\n",
       "    .dataframe tbody tr th:only-of-type {\n",
       "        vertical-align: middle;\n",
       "    }\n",
       "\n",
       "    .dataframe tbody tr th {\n",
       "        vertical-align: top;\n",
       "    }\n",
       "\n",
       "    .dataframe thead th {\n",
       "        text-align: right;\n",
       "    }\n",
       "</style>\n",
       "<table border=\"1\" class=\"dataframe\">\n",
       "  <thead>\n",
       "    <tr style=\"text-align: right;\">\n",
       "      <th></th>\n",
       "      <th>file</th>\n",
       "      <th>date</th>\n",
       "      <th>time</th>\n",
       "      <th>zip code</th>\n",
       "      <th>subspecies</th>\n",
       "      <th>health</th>\n",
       "      <th>pollen_carrying</th>\n",
       "      <th>caste</th>\n",
       "      <th>City</th>\n",
       "      <th>State</th>\n",
       "      <th>Country</th>\n",
       "      <th>is_healthy</th>\n",
       "    </tr>\n",
       "  </thead>\n",
       "  <tbody>\n",
       "    <tr>\n",
       "      <th>2916</th>\n",
       "      <td>010_542.png</td>\n",
       "      <td>8/19/18</td>\n",
       "      <td>12:46</td>\n",
       "      <td>50315</td>\n",
       "      <td>Carniolan honey bee</td>\n",
       "      <td>healthy</td>\n",
       "      <td>False</td>\n",
       "      <td>worker</td>\n",
       "      <td>Des Moines</td>\n",
       "      <td>IA</td>\n",
       "      <td>USA</td>\n",
       "      <td>1</td>\n",
       "    </tr>\n",
       "    <tr>\n",
       "      <th>2038</th>\n",
       "      <td>016_270.png</td>\n",
       "      <td>8/20/18</td>\n",
       "      <td>11:55</td>\n",
       "      <td>95124</td>\n",
       "      <td>-1</td>\n",
       "      <td>healthy</td>\n",
       "      <td>False</td>\n",
       "      <td>worker</td>\n",
       "      <td>San Jose</td>\n",
       "      <td>CA</td>\n",
       "      <td>USA</td>\n",
       "      <td>1</td>\n",
       "    </tr>\n",
       "    <tr>\n",
       "      <th>3830</th>\n",
       "      <td>032_129.png</td>\n",
       "      <td>8/21/18</td>\n",
       "      <td>9:00</td>\n",
       "      <td>50315</td>\n",
       "      <td>Russian honey bee</td>\n",
       "      <td>healthy</td>\n",
       "      <td>False</td>\n",
       "      <td>worker</td>\n",
       "      <td>Des Moines</td>\n",
       "      <td>IA</td>\n",
       "      <td>USA</td>\n",
       "      <td>1</td>\n",
       "    </tr>\n",
       "    <tr>\n",
       "      <th>885</th>\n",
       "      <td>030_374.png</td>\n",
       "      <td>8/17/18</td>\n",
       "      <td>17:50</td>\n",
       "      <td>77511</td>\n",
       "      <td>Italian honey bee</td>\n",
       "      <td>ant problems</td>\n",
       "      <td>False</td>\n",
       "      <td>worker</td>\n",
       "      <td>Alvin</td>\n",
       "      <td>TX</td>\n",
       "      <td>USA</td>\n",
       "      <td>0</td>\n",
       "    </tr>\n",
       "    <tr>\n",
       "      <th>4353</th>\n",
       "      <td>038_110.png</td>\n",
       "      <td>8/18/18</td>\n",
       "      <td>12:30</td>\n",
       "      <td>30607</td>\n",
       "      <td>1 Mixed local stock 2</td>\n",
       "      <td>Varroa, Small Hive Beetles</td>\n",
       "      <td>False</td>\n",
       "      <td>worker</td>\n",
       "      <td>Athens</td>\n",
       "      <td>GA</td>\n",
       "      <td>USA</td>\n",
       "      <td>0</td>\n",
       "    </tr>\n",
       "  </tbody>\n",
       "</table>\n",
       "</div>"
      ],
      "text/plain": [
       "             file     date   time  zip code             subspecies  \\\n",
       "2916  010_542.png  8/19/18  12:46     50315    Carniolan honey bee   \n",
       "2038  016_270.png  8/20/18  11:55     95124                     -1   \n",
       "3830  032_129.png  8/21/18   9:00     50315      Russian honey bee   \n",
       "885   030_374.png  8/17/18  17:50     77511      Italian honey bee   \n",
       "4353  038_110.png  8/18/18  12:30     30607  1 Mixed local stock 2   \n",
       "\n",
       "                          health  pollen_carrying   caste        City State  \\\n",
       "2916                     healthy            False  worker  Des Moines    IA   \n",
       "2038                     healthy            False  worker    San Jose    CA   \n",
       "3830                     healthy            False  worker  Des Moines    IA   \n",
       "885                 ant problems            False  worker       Alvin    TX   \n",
       "4353  Varroa, Small Hive Beetles            False  worker      Athens    GA   \n",
       "\n",
       "     Country  is_healthy  \n",
       "2916     USA           1  \n",
       "2038     USA           1  \n",
       "3830     USA           1  \n",
       "885      USA           0  \n",
       "4353     USA           0  "
      ]
     },
     "execution_count": 8,
     "metadata": {},
     "output_type": "execute_result"
    }
   ],
   "source": [
    "df.sample(5)"
   ]
  },
  {
   "cell_type": "code",
   "execution_count": 6,
   "metadata": {},
   "outputs": [
    {
     "data": {
      "text/html": [
       "<div>\n",
       "<style scoped>\n",
       "    .dataframe tbody tr th:only-of-type {\n",
       "        vertical-align: middle;\n",
       "    }\n",
       "\n",
       "    .dataframe tbody tr th {\n",
       "        vertical-align: top;\n",
       "    }\n",
       "\n",
       "    .dataframe thead th {\n",
       "        text-align: right;\n",
       "    }\n",
       "</style>\n",
       "<table border=\"1\" class=\"dataframe\">\n",
       "  <thead>\n",
       "    <tr style=\"text-align: right;\">\n",
       "      <th></th>\n",
       "      <th>City</th>\n",
       "      <th>State</th>\n",
       "      <th>Count</th>\n",
       "      <th>County</th>\n",
       "      <th>fips</th>\n",
       "    </tr>\n",
       "  </thead>\n",
       "  <tbody>\n",
       "    <tr>\n",
       "      <th>0</th>\n",
       "      <td>Alvin</td>\n",
       "      <td>TX</td>\n",
       "      <td>737</td>\n",
       "      <td>Brazoria</td>\n",
       "      <td>48039</td>\n",
       "    </tr>\n",
       "    <tr>\n",
       "      <th>1</th>\n",
       "      <td>Saratoga</td>\n",
       "      <td>CA</td>\n",
       "      <td>2000</td>\n",
       "      <td>Santa Clara</td>\n",
       "      <td>6085</td>\n",
       "    </tr>\n",
       "    <tr>\n",
       "      <th>2</th>\n",
       "      <td>Athens</td>\n",
       "      <td>GA</td>\n",
       "      <td>1051</td>\n",
       "      <td>Clarke</td>\n",
       "      <td>13059</td>\n",
       "    </tr>\n",
       "    <tr>\n",
       "      <th>3</th>\n",
       "      <td>San Jose</td>\n",
       "      <td>CA</td>\n",
       "      <td>149</td>\n",
       "      <td>Santa Clara</td>\n",
       "      <td>6085</td>\n",
       "    </tr>\n",
       "    <tr>\n",
       "      <th>4</th>\n",
       "      <td>New Orleans</td>\n",
       "      <td>LA</td>\n",
       "      <td>170</td>\n",
       "      <td>Orleans</td>\n",
       "      <td>22071</td>\n",
       "    </tr>\n",
       "    <tr>\n",
       "      <th>5</th>\n",
       "      <td>Des Moines</td>\n",
       "      <td>IA</td>\n",
       "      <td>973</td>\n",
       "      <td>Polk</td>\n",
       "      <td>19153</td>\n",
       "    </tr>\n",
       "    <tr>\n",
       "      <th>6</th>\n",
       "      <td>Keene</td>\n",
       "      <td>NH</td>\n",
       "      <td>92</td>\n",
       "      <td>Cheshire</td>\n",
       "      <td>33005</td>\n",
       "    </tr>\n",
       "  </tbody>\n",
       "</table>\n",
       "</div>"
      ],
      "text/plain": [
       "          City State  Count       County   fips\n",
       "0        Alvin    TX    737     Brazoria  48039\n",
       "1     Saratoga    CA   2000  Santa Clara   6085\n",
       "2       Athens    GA   1051       Clarke  13059\n",
       "3     San Jose    CA    149  Santa Clara   6085\n",
       "4  New Orleans    LA    170      Orleans  22071\n",
       "5   Des Moines    IA    973         Polk  19153\n",
       "6        Keene    NH     92     Cheshire  33005"
      ]
     },
     "execution_count": 6,
     "metadata": {},
     "output_type": "execute_result"
    }
   ],
   "source": [
    "bee_dispersement"
   ]
  },
  {
   "cell_type": "markdown",
   "metadata": {},
   "source": [
    "# Investigation"
   ]
  },
  {
   "cell_type": "code",
   "execution_count": 9,
   "metadata": {},
   "outputs": [
    {
     "data": {
      "image/png": "[encoded data removed]",
      "text/plain": [
       "<Figure size 432x288 with 1 Axes>"
      ]
     },
     "metadata": {
      "needs_background": "light"
     },
     "output_type": "display_data"
    }
   ],
   "source": [
    "sns.barplot(x='City', y='Count', data=bee_dispersement, palette=\"YlOrBr\")\n",
    "plt.title('Total Bee Count by City')\n",
    "plt.xticks(rotation=60)\n",
    "plt.show()"
   ]
  },
  {
   "cell_type": "markdown",
   "metadata": {},
   "source": [
    "##### Saratoga has the largest bee count; while Keene has the smallest"
   ]
  },
  {
   "cell_type": "markdown",
   "metadata": {},
   "source": [
    "### Health Info"
   ]
  },
  {
   "cell_type": "code",
   "execution_count": 10,
   "metadata": {},
   "outputs": [
    {
     "data": {
      "image/png": "[encoded data removed]",
      "text/plain": [
       "<Figure size 576x432 with 1 Axes>"
      ]
     },
     "metadata": {
      "needs_background": "light"
     },
     "output_type": "display_data"
    }
   ],
   "source": [
    "plt.figure(figsize=(8,6))\n",
    "sns.countplot(x=\"is_healthy\", data=df, palette=\"YlOrBr\")\n",
    "plt.title('Bee Health')\n",
    "plt.xlabel('Is Healthy?')\n",
    "plt.ylabel('Count')\n",
    "plt.show()"
   ]
  },
  {
   "cell_type": "code",
   "execution_count": 11,
   "metadata": {},
   "outputs": [
    {
     "data": {
      "image/png": "[encoded data removed]",
      "text/plain": [
       "<Figure size 576x432 with 1 Axes>"
      ]
     },
     "metadata": {
      "needs_background": "light"
     },
     "output_type": "display_data"
    }
   ],
   "source": [
    "plt.figure(figsize=(8,6))\n",
    "sns.countplot(y=\"subspecies\", hue=\"is_healthy\", data=df, palette=\"YlOrBr\")\n",
    "plt.title('Bee Health by Subspecies')\n",
    "plt.xlabel('')\n",
    "plt.show()"
   ]
  },
  {
   "cell_type": "code",
   "execution_count": 12,
   "metadata": {},
   "outputs": [
    {
     "data": {
      "text/plain": [
       "<Figure size 864x1080 with 0 Axes>"
      ]
     },
     "metadata": {},
     "output_type": "display_data"
    },
    {
     "data": {
      "image/png": "[encoded data removed]",
      "text/plain": [
       "<Figure size 720x360 with 2 Axes>"
      ]
     },
     "metadata": {
      "needs_background": "light"
     },
     "output_type": "display_data"
    }
   ],
   "source": [
    "plt.figure(figsize=(12,15))\n",
    "sns.catplot(y=\"subspecies\", col=\"is_healthy\",\n",
    "            data=df, kind=\"count\", palette=\"YlOrBr\")\n",
    "plt.show()"
   ]
  },
  {
   "cell_type": "markdown",
   "metadata": {},
   "source": [
    "### Subspecies Info"
   ]
  },
  {
   "cell_type": "code",
   "execution_count": 13,
   "metadata": {},
   "outputs": [
    {
     "data": {
      "text/plain": [
       "array(['-1', 'Italian honey bee', 'VSH Italian honey bee',\n",
       "       'Carniolan honey bee', 'Russian honey bee',\n",
       "       '1 Mixed local stock 2', 'Western honey bee'], dtype=object)"
      ]
     },
     "execution_count": 13,
     "metadata": {},
     "output_type": "execute_result"
    }
   ],
   "source": [
    "df['subspecies'].unique()"
   ]
  },
  {
   "cell_type": "code",
   "execution_count": 14,
   "metadata": {},
   "outputs": [
    {
     "data": {
      "image/png": "[encoded data removed]",
      "text/plain": [
       "<Figure size 720x432 with 1 Axes>"
      ]
     },
     "metadata": {
      "needs_background": "light"
     },
     "output_type": "display_data"
    }
   ],
   "source": [
    "plt.figure(figsize=(10,6))\n",
    "sns.scatterplot(x='health', y='subspecies', data=df, color='Orange')\n",
    "plt.title('Bee Health by Subspecies')\n",
    "plt.ylabel('Subspecies')\n",
    "plt.xlabel('Health')\n",
    "plt.xticks(rotation=90)\n",
    "\n",
    "plt.show()"
   ]
  },
  {
   "cell_type": "code",
   "execution_count": 15,
   "metadata": {},
   "outputs": [
    {
     "data": {
      "image/png": "[encoded data removed]",
      "text/plain": [
       "<Figure size 720x432 with 1 Axes>"
      ]
     },
     "metadata": {
      "needs_background": "light"
     },
     "output_type": "display_data"
    }
   ],
   "source": [
    "plt.figure(figsize=(10,6))\n",
    "sns.scatterplot(x='State', y='health', data=df, color='Orange')\n",
    "plt.title('Bee Health by State')\n",
    "plt.xlabel('State')\n",
    "plt.ylabel('Health')\n",
    "plt.show()"
   ]
  },
  {
   "cell_type": "code",
   "execution_count": 16,
   "metadata": {},
   "outputs": [
    {
     "data": {
      "text/plain": [
       "472"
      ]
     },
     "execution_count": 16,
     "metadata": {},
     "output_type": "execute_result"
    }
   ],
   "source": [
    "#size=df.count(),\n",
    "\n",
    "len(df.loc[df['subspecies'] == '1 Mixed local stock 2'])"
   ]
  },
  {
   "cell_type": "markdown",
   "metadata": {},
   "source": [
    "### Subspecies Info"
   ]
  },
  {
   "cell_type": "code",
   "execution_count": 17,
   "metadata": {},
   "outputs": [],
   "source": [
    "subspecies = ['-1', 'Italian honey bee', 'VSH Italian honey bee',\n",
    "              'Carniolan honey bee', 'Russian honey bee',\n",
    "              '1 Mixed local stock 2', 'Western honey bee']"
   ]
  },
  {
   "cell_type": "code",
   "execution_count": 18,
   "metadata": {},
   "outputs": [
    {
     "name": "stdout",
     "output_type": "stream",
     "text": [
      "-1 :  428\n",
      "Italian honey bee :  3008\n",
      "VSH Italian honey bee :  199\n",
      "Carniolan honey bee :  501\n",
      "Russian honey bee :  527\n",
      "1 Mixed local stock 2 :  472\n",
      "Western honey bee :  37\n"
     ]
    }
   ],
   "source": [
    "for species in subspecies:\n",
    "    print(species, \": \", len(df.loc[df['subspecies'] == species]))"
   ]
  },
  {
   "cell_type": "code",
   "execution_count": 19,
   "metadata": {},
   "outputs": [],
   "source": [
    "def instance_count_per_species():\n",
    "    subspecies_info = []\n",
    "    for species in subspecies:\n",
    "        this_bee = df.loc[df['subspecies'] == species]\n",
    "        \n",
    "        this_bee_info = {'Subspecies': species, \n",
    "                          'State': ((this_bee['State'].nunique())), \n",
    "                          'Count': (this_bee['subspecies'].count())} \n",
    "        \n",
    "        subspecies_info.append(this_bee_info)\n",
    "    return(subspecies_info)"
   ]
  },
  {
   "cell_type": "code",
   "execution_count": 20,
   "metadata": {},
   "outputs": [
    {
     "data": {
      "text/plain": [
       "[{'Subspecies': '-1', 'State': 2, 'Count': 428},\n",
       " {'Subspecies': 'Italian honey bee', 'State': 3, 'Count': 3008},\n",
       " {'Subspecies': 'VSH Italian honey bee', 'State': 2, 'Count': 199},\n",
       " {'Subspecies': 'Carniolan honey bee', 'State': 1, 'Count': 501},\n",
       " {'Subspecies': 'Russian honey bee', 'State': 2, 'Count': 527},\n",
       " {'Subspecies': '1 Mixed local stock 2', 'State': 1, 'Count': 472},\n",
       " {'Subspecies': 'Western honey bee', 'State': 1, 'Count': 37}]"
      ]
     },
     "execution_count": 20,
     "metadata": {},
     "output_type": "execute_result"
    }
   ],
   "source": [
    "instance_count_per_species()"
   ]
  },
  {
   "cell_type": "code",
   "execution_count": 21,
   "metadata": {},
   "outputs": [
    {
     "data": {
      "text/html": [
       "<div>\n",
       "<style scoped>\n",
       "    .dataframe tbody tr th:only-of-type {\n",
       "        vertical-align: middle;\n",
       "    }\n",
       "\n",
       "    .dataframe tbody tr th {\n",
       "        vertical-align: top;\n",
       "    }\n",
       "\n",
       "    .dataframe thead th {\n",
       "        text-align: right;\n",
       "    }\n",
       "</style>\n",
       "<table border=\"1\" class=\"dataframe\">\n",
       "  <thead>\n",
       "    <tr style=\"text-align: right;\">\n",
       "      <th></th>\n",
       "      <th>Subspecies</th>\n",
       "      <th>State</th>\n",
       "      <th>Count</th>\n",
       "    </tr>\n",
       "  </thead>\n",
       "  <tbody>\n",
       "    <tr>\n",
       "      <th>0</th>\n",
       "      <td>-1</td>\n",
       "      <td>2</td>\n",
       "      <td>428</td>\n",
       "    </tr>\n",
       "    <tr>\n",
       "      <th>1</th>\n",
       "      <td>Italian honey bee</td>\n",
       "      <td>3</td>\n",
       "      <td>3008</td>\n",
       "    </tr>\n",
       "    <tr>\n",
       "      <th>2</th>\n",
       "      <td>VSH Italian honey bee</td>\n",
       "      <td>2</td>\n",
       "      <td>199</td>\n",
       "    </tr>\n",
       "    <tr>\n",
       "      <th>3</th>\n",
       "      <td>Carniolan honey bee</td>\n",
       "      <td>1</td>\n",
       "      <td>501</td>\n",
       "    </tr>\n",
       "    <tr>\n",
       "      <th>4</th>\n",
       "      <td>Russian honey bee</td>\n",
       "      <td>2</td>\n",
       "      <td>527</td>\n",
       "    </tr>\n",
       "    <tr>\n",
       "      <th>5</th>\n",
       "      <td>1 Mixed local stock 2</td>\n",
       "      <td>1</td>\n",
       "      <td>472</td>\n",
       "    </tr>\n",
       "    <tr>\n",
       "      <th>6</th>\n",
       "      <td>Western honey bee</td>\n",
       "      <td>1</td>\n",
       "      <td>37</td>\n",
       "    </tr>\n",
       "  </tbody>\n",
       "</table>\n",
       "</div>"
      ],
      "text/plain": [
       "              Subspecies  State  Count\n",
       "0                     -1      2    428\n",
       "1      Italian honey bee      3   3008\n",
       "2  VSH Italian honey bee      2    199\n",
       "3    Carniolan honey bee      1    501\n",
       "4      Russian honey bee      2    527\n",
       "5  1 Mixed local stock 2      1    472\n",
       "6      Western honey bee      1     37"
      ]
     },
     "execution_count": 21,
     "metadata": {},
     "output_type": "execute_result"
    }
   ],
   "source": [
    "species_df = pd.DataFrame(instance_count_per_species())\n",
    "species_df"
   ]
  },
  {
   "cell_type": "code",
   "execution_count": 22,
   "metadata": {},
   "outputs": [
    {
     "data": {
      "image/png": "[encoded data removed]",
      "text/plain": [
       "<Figure size 432x288 with 1 Axes>"
      ]
     },
     "metadata": {
      "needs_background": "light"
     },
     "output_type": "display_data"
    }
   ],
   "source": [
    "sns.barplot(x='Count', y='Subspecies', data=species_df, palette=\"YlOrBr\")\n",
    "plt.title('Total Bee Count by Subspecies')\n",
    "plt.show()"
   ]
  },
  {
   "cell_type": "markdown",
   "metadata": {},
   "source": [
    "##### Italian Honey Bee is the most prominent species (3008) in the dataset and has a presence in three States: 'CA', 'GA', 'TX'"
   ]
  },
  {
   "cell_type": "markdown",
   "metadata": {},
   "source": [
    "# Pollen Investigation"
   ]
  },
  {
   "cell_type": "code",
   "execution_count": 25,
   "metadata": {},
   "outputs": [
    {
     "data": {
      "image/png": "[encoded data removed]",
      "text/plain": [
       "<Figure size 576x432 with 1 Axes>"
      ]
     },
     "metadata": {
      "needs_background": "light"
     },
     "output_type": "display_data"
    }
   ],
   "source": [
    "plt.figure(figsize=(8,6))\n",
    "sns.countplot(x=\"pollen_carrying\", data=df, palette=\"YlOrBr\")\n",
    "plt.title('Pollen Carrying Bees')\n",
    "plt.xlabel('Is Carrying Pollen?')\n",
    "plt.ylabel('Count')\n",
    "plt.show()"
   ]
  },
  {
   "cell_type": "code",
   "execution_count": 35,
   "metadata": {},
   "outputs": [
    {
     "name": "stdout",
     "output_type": "stream",
     "text": [
      "True    18\n",
      "Name: pollen_carrying, dtype: int64\n",
      "False    5154\n",
      "Name: pollen_carrying, dtype: int64\n"
     ]
    }
   ],
   "source": [
    "print((df.loc[df['pollen_carrying'] == True])['pollen_carrying'].value_counts())\n",
    "print((df.loc[df['pollen_carrying'] == False])['pollen_carrying'].value_counts())"
   ]
  },
  {
   "cell_type": "code",
   "execution_count": 40,
   "metadata": {},
   "outputs": [
    {
     "name": "stdout",
     "output_type": "stream",
     "text": [
      "Percentage of bees carrying pollen:  0.35 %\n"
     ]
    }
   ],
   "source": [
    "print(\"Percentage of bees carrying pollen: \", round(18/len(df)*100, 2), \"%\")"
   ]
  },
  {
   "cell_type": "code",
   "execution_count": 119,
   "metadata": {},
   "outputs": [
    {
     "data": {
      "text/html": [
       "<div>\n",
       "<style scoped>\n",
       "    .dataframe tbody tr th:only-of-type {\n",
       "        vertical-align: middle;\n",
       "    }\n",
       "\n",
       "    .dataframe tbody tr th {\n",
       "        vertical-align: top;\n",
       "    }\n",
       "\n",
       "    .dataframe thead th {\n",
       "        text-align: right;\n",
       "    }\n",
       "</style>\n",
       "<table border=\"1\" class=\"dataframe\">\n",
       "  <thead>\n",
       "    <tr style=\"text-align: right;\">\n",
       "      <th></th>\n",
       "      <th>file</th>\n",
       "      <th>date</th>\n",
       "      <th>time</th>\n",
       "      <th>zip code</th>\n",
       "      <th>subspecies</th>\n",
       "      <th>health</th>\n",
       "      <th>pollen_carrying</th>\n",
       "      <th>caste</th>\n",
       "      <th>City</th>\n",
       "      <th>State</th>\n",
       "      <th>Country</th>\n",
       "      <th>is_healthy</th>\n",
       "    </tr>\n",
       "  </thead>\n",
       "  <tbody>\n",
       "    <tr>\n",
       "      <th>89</th>\n",
       "      <td>017_038.png</td>\n",
       "      <td>8/6/18</td>\n",
       "      <td>13:21</td>\n",
       "      <td>95070</td>\n",
       "      <td>Italian honey bee</td>\n",
       "      <td>healthy</td>\n",
       "      <td>True</td>\n",
       "      <td>worker</td>\n",
       "      <td>Saratoga</td>\n",
       "      <td>CA</td>\n",
       "      <td>USA</td>\n",
       "      <td>1</td>\n",
       "    </tr>\n",
       "    <tr>\n",
       "      <th>548</th>\n",
       "      <td>029_014.png</td>\n",
       "      <td>8/20/18</td>\n",
       "      <td>9:53</td>\n",
       "      <td>95124</td>\n",
       "      <td>-1</td>\n",
       "      <td>healthy</td>\n",
       "      <td>True</td>\n",
       "      <td>worker</td>\n",
       "      <td>San Jose</td>\n",
       "      <td>CA</td>\n",
       "      <td>USA</td>\n",
       "      <td>1</td>\n",
       "    </tr>\n",
       "    <tr>\n",
       "      <th>731</th>\n",
       "      <td>024_022.png</td>\n",
       "      <td>8/13/18</td>\n",
       "      <td>11:00</td>\n",
       "      <td>95070</td>\n",
       "      <td>-1</td>\n",
       "      <td>healthy</td>\n",
       "      <td>True</td>\n",
       "      <td>worker</td>\n",
       "      <td>Saratoga</td>\n",
       "      <td>CA</td>\n",
       "      <td>USA</td>\n",
       "      <td>1</td>\n",
       "    </tr>\n",
       "    <tr>\n",
       "      <th>1736</th>\n",
       "      <td>040_194.png</td>\n",
       "      <td>8/21/18</td>\n",
       "      <td>15:56</td>\n",
       "      <td>30607</td>\n",
       "      <td>Italian honey bee</td>\n",
       "      <td>few varrao, hive beetles</td>\n",
       "      <td>True</td>\n",
       "      <td>worker</td>\n",
       "      <td>Athens</td>\n",
       "      <td>GA</td>\n",
       "      <td>USA</td>\n",
       "      <td>0</td>\n",
       "    </tr>\n",
       "    <tr>\n",
       "      <th>1996</th>\n",
       "      <td>016_207.png</td>\n",
       "      <td>8/20/18</td>\n",
       "      <td>11:55</td>\n",
       "      <td>95124</td>\n",
       "      <td>-1</td>\n",
       "      <td>healthy</td>\n",
       "      <td>True</td>\n",
       "      <td>worker</td>\n",
       "      <td>San Jose</td>\n",
       "      <td>CA</td>\n",
       "      <td>USA</td>\n",
       "      <td>1</td>\n",
       "    </tr>\n",
       "    <tr>\n",
       "      <th>2015</th>\n",
       "      <td>016_177.png</td>\n",
       "      <td>8/20/18</td>\n",
       "      <td>11:55</td>\n",
       "      <td>95124</td>\n",
       "      <td>-1</td>\n",
       "      <td>healthy</td>\n",
       "      <td>True</td>\n",
       "      <td>worker</td>\n",
       "      <td>San Jose</td>\n",
       "      <td>CA</td>\n",
       "      <td>USA</td>\n",
       "      <td>1</td>\n",
       "    </tr>\n",
       "    <tr>\n",
       "      <th>2016</th>\n",
       "      <td>016_163.png</td>\n",
       "      <td>8/20/18</td>\n",
       "      <td>11:55</td>\n",
       "      <td>95124</td>\n",
       "      <td>-1</td>\n",
       "      <td>healthy</td>\n",
       "      <td>True</td>\n",
       "      <td>worker</td>\n",
       "      <td>San Jose</td>\n",
       "      <td>CA</td>\n",
       "      <td>USA</td>\n",
       "      <td>1</td>\n",
       "    </tr>\n",
       "    <tr>\n",
       "      <th>2031</th>\n",
       "      <td>016_098.png</td>\n",
       "      <td>8/20/18</td>\n",
       "      <td>11:55</td>\n",
       "      <td>95124</td>\n",
       "      <td>-1</td>\n",
       "      <td>healthy</td>\n",
       "      <td>True</td>\n",
       "      <td>worker</td>\n",
       "      <td>San Jose</td>\n",
       "      <td>CA</td>\n",
       "      <td>USA</td>\n",
       "      <td>1</td>\n",
       "    </tr>\n",
       "    <tr>\n",
       "      <th>2043</th>\n",
       "      <td>016_138.png</td>\n",
       "      <td>8/20/18</td>\n",
       "      <td>11:55</td>\n",
       "      <td>95124</td>\n",
       "      <td>-1</td>\n",
       "      <td>healthy</td>\n",
       "      <td>True</td>\n",
       "      <td>worker</td>\n",
       "      <td>San Jose</td>\n",
       "      <td>CA</td>\n",
       "      <td>USA</td>\n",
       "      <td>1</td>\n",
       "    </tr>\n",
       "    <tr>\n",
       "      <th>2069</th>\n",
       "      <td>016_293.png</td>\n",
       "      <td>8/20/18</td>\n",
       "      <td>11:55</td>\n",
       "      <td>95124</td>\n",
       "      <td>-1</td>\n",
       "      <td>healthy</td>\n",
       "      <td>True</td>\n",
       "      <td>worker</td>\n",
       "      <td>San Jose</td>\n",
       "      <td>CA</td>\n",
       "      <td>USA</td>\n",
       "      <td>1</td>\n",
       "    </tr>\n",
       "    <tr>\n",
       "      <th>2276</th>\n",
       "      <td>028_014.png</td>\n",
       "      <td>8/20/18</td>\n",
       "      <td>9:47</td>\n",
       "      <td>95124</td>\n",
       "      <td>-1</td>\n",
       "      <td>healthy</td>\n",
       "      <td>True</td>\n",
       "      <td>worker</td>\n",
       "      <td>San Jose</td>\n",
       "      <td>CA</td>\n",
       "      <td>USA</td>\n",
       "      <td>1</td>\n",
       "    </tr>\n",
       "    <tr>\n",
       "      <th>3455</th>\n",
       "      <td>015_820.png</td>\n",
       "      <td>8/6/18</td>\n",
       "      <td>13:19</td>\n",
       "      <td>95070</td>\n",
       "      <td>Italian honey bee</td>\n",
       "      <td>healthy</td>\n",
       "      <td>True</td>\n",
       "      <td>worker</td>\n",
       "      <td>Saratoga</td>\n",
       "      <td>CA</td>\n",
       "      <td>USA</td>\n",
       "      <td>1</td>\n",
       "    </tr>\n",
       "    <tr>\n",
       "      <th>4709</th>\n",
       "      <td>019_1190.png</td>\n",
       "      <td>8/6/18</td>\n",
       "      <td>19:19</td>\n",
       "      <td>95070</td>\n",
       "      <td>Italian honey bee</td>\n",
       "      <td>healthy</td>\n",
       "      <td>True</td>\n",
       "      <td>worker</td>\n",
       "      <td>Saratoga</td>\n",
       "      <td>CA</td>\n",
       "      <td>USA</td>\n",
       "      <td>1</td>\n",
       "    </tr>\n",
       "    <tr>\n",
       "      <th>4805</th>\n",
       "      <td>019_988.png</td>\n",
       "      <td>8/6/18</td>\n",
       "      <td>19:19</td>\n",
       "      <td>95070</td>\n",
       "      <td>Italian honey bee</td>\n",
       "      <td>healthy</td>\n",
       "      <td>True</td>\n",
       "      <td>worker</td>\n",
       "      <td>Saratoga</td>\n",
       "      <td>CA</td>\n",
       "      <td>USA</td>\n",
       "      <td>1</td>\n",
       "    </tr>\n",
       "    <tr>\n",
       "      <th>4929</th>\n",
       "      <td>019_1172.png</td>\n",
       "      <td>8/6/18</td>\n",
       "      <td>19:19</td>\n",
       "      <td>95070</td>\n",
       "      <td>Italian honey bee</td>\n",
       "      <td>healthy</td>\n",
       "      <td>True</td>\n",
       "      <td>worker</td>\n",
       "      <td>Saratoga</td>\n",
       "      <td>CA</td>\n",
       "      <td>USA</td>\n",
       "      <td>1</td>\n",
       "    </tr>\n",
       "    <tr>\n",
       "      <th>5165</th>\n",
       "      <td>027_004.png</td>\n",
       "      <td>8/20/18</td>\n",
       "      <td>10:03</td>\n",
       "      <td>95124</td>\n",
       "      <td>-1</td>\n",
       "      <td>healthy</td>\n",
       "      <td>True</td>\n",
       "      <td>worker</td>\n",
       "      <td>San Jose</td>\n",
       "      <td>CA</td>\n",
       "      <td>USA</td>\n",
       "      <td>1</td>\n",
       "    </tr>\n",
       "    <tr>\n",
       "      <th>5167</th>\n",
       "      <td>027_011.png</td>\n",
       "      <td>8/20/18</td>\n",
       "      <td>10:03</td>\n",
       "      <td>95124</td>\n",
       "      <td>-1</td>\n",
       "      <td>healthy</td>\n",
       "      <td>True</td>\n",
       "      <td>worker</td>\n",
       "      <td>San Jose</td>\n",
       "      <td>CA</td>\n",
       "      <td>USA</td>\n",
       "      <td>1</td>\n",
       "    </tr>\n",
       "    <tr>\n",
       "      <th>5168</th>\n",
       "      <td>027_007.png</td>\n",
       "      <td>8/20/18</td>\n",
       "      <td>10:03</td>\n",
       "      <td>95124</td>\n",
       "      <td>-1</td>\n",
       "      <td>healthy</td>\n",
       "      <td>True</td>\n",
       "      <td>worker</td>\n",
       "      <td>San Jose</td>\n",
       "      <td>CA</td>\n",
       "      <td>USA</td>\n",
       "      <td>1</td>\n",
       "    </tr>\n",
       "  </tbody>\n",
       "</table>\n",
       "</div>"
      ],
      "text/plain": [
       "              file     date   time  zip code         subspecies  \\\n",
       "89     017_038.png   8/6/18  13:21     95070  Italian honey bee   \n",
       "548    029_014.png  8/20/18   9:53     95124                 -1   \n",
       "731    024_022.png  8/13/18  11:00     95070                 -1   \n",
       "1736   040_194.png  8/21/18  15:56     30607  Italian honey bee   \n",
       "1996   016_207.png  8/20/18  11:55     95124                 -1   \n",
       "2015   016_177.png  8/20/18  11:55     95124                 -1   \n",
       "2016   016_163.png  8/20/18  11:55     95124                 -1   \n",
       "2031   016_098.png  8/20/18  11:55     95124                 -1   \n",
       "2043   016_138.png  8/20/18  11:55     95124                 -1   \n",
       "2069   016_293.png  8/20/18  11:55     95124                 -1   \n",
       "2276   028_014.png  8/20/18   9:47     95124                 -1   \n",
       "3455   015_820.png   8/6/18  13:19     95070  Italian honey bee   \n",
       "4709  019_1190.png   8/6/18  19:19     95070  Italian honey bee   \n",
       "4805   019_988.png   8/6/18  19:19     95070  Italian honey bee   \n",
       "4929  019_1172.png   8/6/18  19:19     95070  Italian honey bee   \n",
       "5165   027_004.png  8/20/18  10:03     95124                 -1   \n",
       "5167   027_011.png  8/20/18  10:03     95124                 -1   \n",
       "5168   027_007.png  8/20/18  10:03     95124                 -1   \n",
       "\n",
       "                        health  pollen_carrying   caste      City State  \\\n",
       "89                     healthy             True  worker  Saratoga    CA   \n",
       "548                    healthy             True  worker  San Jose    CA   \n",
       "731                    healthy             True  worker  Saratoga    CA   \n",
       "1736  few varrao, hive beetles             True  worker    Athens    GA   \n",
       "1996                   healthy             True  worker  San Jose    CA   \n",
       "2015                   healthy             True  worker  San Jose    CA   \n",
       "2016                   healthy             True  worker  San Jose    CA   \n",
       "2031                   healthy             True  worker  San Jose    CA   \n",
       "2043                   healthy             True  worker  San Jose    CA   \n",
       "2069                   healthy             True  worker  San Jose    CA   \n",
       "2276                   healthy             True  worker  San Jose    CA   \n",
       "3455                   healthy             True  worker  Saratoga    CA   \n",
       "4709                   healthy             True  worker  Saratoga    CA   \n",
       "4805                   healthy             True  worker  Saratoga    CA   \n",
       "4929                   healthy             True  worker  Saratoga    CA   \n",
       "5165                   healthy             True  worker  San Jose    CA   \n",
       "5167                   healthy             True  worker  San Jose    CA   \n",
       "5168                   healthy             True  worker  San Jose    CA   \n",
       "\n",
       "     Country  is_healthy  \n",
       "89       USA           1  \n",
       "548      USA           1  \n",
       "731      USA           1  \n",
       "1736     USA           0  \n",
       "1996     USA           1  \n",
       "2015     USA           1  \n",
       "2016     USA           1  \n",
       "2031     USA           1  \n",
       "2043     USA           1  \n",
       "2069     USA           1  \n",
       "2276     USA           1  \n",
       "3455     USA           1  \n",
       "4709     USA           1  \n",
       "4805     USA           1  \n",
       "4929     USA           1  \n",
       "5165     USA           1  \n",
       "5167     USA           1  \n",
       "5168     USA           1  "
      ]
     },
     "execution_count": 119,
     "metadata": {},
     "output_type": "execute_result"
    }
   ],
   "source": [
    "pollen = df.loc[df['pollen_carrying'] == True]\n",
    "pollen"
   ]
  },
  {
   "cell_type": "code",
   "execution_count": 44,
   "metadata": {},
   "outputs": [
    {
     "data": {
      "text/plain": [
       "<Figure size 864x1080 with 0 Axes>"
      ]
     },
     "metadata": {},
     "output_type": "display_data"
    },
    {
     "data": {
      "image/png": "[encoded data removed]",
      "text/plain": [
       "<Figure size 720x360 with 2 Axes>"
      ]
     },
     "metadata": {
      "needs_background": "light"
     },
     "output_type": "display_data"
    }
   ],
   "source": [
    "plt.figure(figsize=(12,15))\n",
    "sns.catplot(col=\"subspecies\", y=\"State\",\n",
    "            data=pollen, kind=\"count\", palette=\"YlOrBr\")\n",
    "plt.show()"
   ]
  },
  {
   "cell_type": "code",
   "execution_count": 51,
   "metadata": {},
   "outputs": [
    {
     "data": {
      "text/plain": [
       "<Figure size 864x1080 with 0 Axes>"
      ]
     },
     "metadata": {},
     "output_type": "display_data"
    },
    {
     "data": {
      "image/png": "[encoded data removed]",
      "text/plain": [
       "<Figure size 720x360 with 2 Axes>"
      ]
     },
     "metadata": {
      "needs_background": "light"
     },
     "output_type": "display_data"
    }
   ],
   "source": [
    "# pollen carrying bees by date\n",
    "plt.figure(figsize=(12,15))\n",
    "sns.catplot(col=\"subspecies\", x=\"date\",\n",
    "            data=pollen, kind=\"count\", palette=\"YlOrBr\")\n",
    "plt.show()"
   ]
  },
  {
   "cell_type": "code",
   "execution_count": 65,
   "metadata": {},
   "outputs": [
    {
     "data": {
      "text/plain": [
       "<Figure size 864x1080 with 0 Axes>"
      ]
     },
     "metadata": {},
     "output_type": "display_data"
    },
    {
     "data": {
      "image/png": "[encoded data removed]",
      "text/plain": [
       "<Figure size 720x360 with 2 Axes>"
      ]
     },
     "metadata": {
      "needs_background": "light"
     },
     "output_type": "display_data"
    }
   ],
   "source": [
    "# pollen carrying bees by time\n",
    "plt.figure(figsize=(12,15))\n",
    "sns.catplot(col=\"subspecies\", x=\"time\",\n",
    "            data=pollen, kind=\"count\", palette=\"YlOrBr\")\n",
    "plt.show()"
   ]
  },
  {
   "cell_type": "markdown",
   "metadata": {},
   "source": [
    "##### notes about pollen carrying bees:\n",
    "- 1 Italian honey bee from GA is not healthy; the remaining bees (from CA) are healthy"
   ]
  },
  {
   "cell_type": "code",
   "execution_count": 66,
   "metadata": {},
   "outputs": [
    {
     "data": {
      "text/html": [
       "<div>\n",
       "<style scoped>\n",
       "    .dataframe tbody tr th:only-of-type {\n",
       "        vertical-align: middle;\n",
       "    }\n",
       "\n",
       "    .dataframe tbody tr th {\n",
       "        vertical-align: top;\n",
       "    }\n",
       "\n",
       "    .dataframe thead th {\n",
       "        text-align: right;\n",
       "    }\n",
       "</style>\n",
       "<table border=\"1\" class=\"dataframe\">\n",
       "  <thead>\n",
       "    <tr style=\"text-align: right;\">\n",
       "      <th></th>\n",
       "      <th>file</th>\n",
       "      <th>date</th>\n",
       "      <th>time</th>\n",
       "      <th>zip code</th>\n",
       "      <th>subspecies</th>\n",
       "      <th>health</th>\n",
       "      <th>pollen_carrying</th>\n",
       "      <th>caste</th>\n",
       "      <th>City</th>\n",
       "      <th>State</th>\n",
       "      <th>Country</th>\n",
       "      <th>is_healthy</th>\n",
       "    </tr>\n",
       "  </thead>\n",
       "  <tbody>\n",
       "    <tr>\n",
       "      <th>0</th>\n",
       "      <td>041_066.png</td>\n",
       "      <td>8/28/18</td>\n",
       "      <td>16:07</td>\n",
       "      <td>77511</td>\n",
       "      <td>-1</td>\n",
       "      <td>hive being robbed</td>\n",
       "      <td>False</td>\n",
       "      <td>worker</td>\n",
       "      <td>Alvin</td>\n",
       "      <td>TX</td>\n",
       "      <td>USA</td>\n",
       "      <td>0</td>\n",
       "    </tr>\n",
       "    <tr>\n",
       "      <th>1</th>\n",
       "      <td>041_072.png</td>\n",
       "      <td>8/28/18</td>\n",
       "      <td>16:07</td>\n",
       "      <td>77511</td>\n",
       "      <td>-1</td>\n",
       "      <td>hive being robbed</td>\n",
       "      <td>False</td>\n",
       "      <td>worker</td>\n",
       "      <td>Alvin</td>\n",
       "      <td>TX</td>\n",
       "      <td>USA</td>\n",
       "      <td>0</td>\n",
       "    </tr>\n",
       "    <tr>\n",
       "      <th>2</th>\n",
       "      <td>041_073.png</td>\n",
       "      <td>8/28/18</td>\n",
       "      <td>16:07</td>\n",
       "      <td>77511</td>\n",
       "      <td>-1</td>\n",
       "      <td>hive being robbed</td>\n",
       "      <td>False</td>\n",
       "      <td>worker</td>\n",
       "      <td>Alvin</td>\n",
       "      <td>TX</td>\n",
       "      <td>USA</td>\n",
       "      <td>0</td>\n",
       "    </tr>\n",
       "    <tr>\n",
       "      <th>3</th>\n",
       "      <td>041_067.png</td>\n",
       "      <td>8/28/18</td>\n",
       "      <td>16:07</td>\n",
       "      <td>77511</td>\n",
       "      <td>-1</td>\n",
       "      <td>hive being robbed</td>\n",
       "      <td>False</td>\n",
       "      <td>worker</td>\n",
       "      <td>Alvin</td>\n",
       "      <td>TX</td>\n",
       "      <td>USA</td>\n",
       "      <td>0</td>\n",
       "    </tr>\n",
       "    <tr>\n",
       "      <th>4</th>\n",
       "      <td>041_059.png</td>\n",
       "      <td>8/28/18</td>\n",
       "      <td>16:07</td>\n",
       "      <td>77511</td>\n",
       "      <td>-1</td>\n",
       "      <td>hive being robbed</td>\n",
       "      <td>False</td>\n",
       "      <td>worker</td>\n",
       "      <td>Alvin</td>\n",
       "      <td>TX</td>\n",
       "      <td>USA</td>\n",
       "      <td>0</td>\n",
       "    </tr>\n",
       "  </tbody>\n",
       "</table>\n",
       "</div>"
      ],
      "text/plain": [
       "          file     date   time  zip code subspecies             health  \\\n",
       "0  041_066.png  8/28/18  16:07     77511         -1  hive being robbed   \n",
       "1  041_072.png  8/28/18  16:07     77511         -1  hive being robbed   \n",
       "2  041_073.png  8/28/18  16:07     77511         -1  hive being robbed   \n",
       "3  041_067.png  8/28/18  16:07     77511         -1  hive being robbed   \n",
       "4  041_059.png  8/28/18  16:07     77511         -1  hive being robbed   \n",
       "\n",
       "   pollen_carrying   caste   City State Country  is_healthy  \n",
       "0            False  worker  Alvin    TX     USA           0  \n",
       "1            False  worker  Alvin    TX     USA           0  \n",
       "2            False  worker  Alvin    TX     USA           0  \n",
       "3            False  worker  Alvin    TX     USA           0  \n",
       "4            False  worker  Alvin    TX     USA           0  "
      ]
     },
     "execution_count": 66,
     "metadata": {},
     "output_type": "execute_result"
    }
   ],
   "source": [
    "non_pollen = df.loc[df['pollen_carrying'] == False]\n",
    "non_pollen.head()"
   ]
  },
  {
   "cell_type": "code",
   "execution_count": 72,
   "metadata": {},
   "outputs": [
    {
     "data": {
      "text/plain": [
       "<Figure size 864x1080 with 0 Axes>"
      ]
     },
     "metadata": {},
     "output_type": "display_data"
    },
    {
     "data": {
      "image/png": "[encoded data removed]",
      "text/plain": [
       "<Figure size 2160x360 with 6 Axes>"
      ]
     },
     "metadata": {
      "needs_background": "light"
     },
     "output_type": "display_data"
    }
   ],
   "source": [
    "# pollen carrying bees by date\n",
    "plt.figure(figsize=(12,15))\n",
    "sns.catplot(x=\"State\", col=\"health\",\n",
    "            data=non_pollen, kind=\"count\", palette=\"YlOrBr\")\n",
    "plt.show()"
   ]
  },
  {
   "cell_type": "code",
   "execution_count": 84,
   "metadata": {},
   "outputs": [
    {
     "data": {
      "image/png": "[encoded data removed]",
      "text/plain": [
       "<Figure size 576x432 with 1 Axes>"
      ]
     },
     "metadata": {
      "needs_background": "light"
     },
     "output_type": "display_data"
    }
   ],
   "source": [
    "plt.figure(figsize=(8,6))\n",
    "sns.countplot(hue=\"City\", x=\"health\", data=non_pollen, palette=\"YlOrBr\")\n",
    "plt.title('Non-Pollen Carrying Bee Health by City')\n",
    "plt.xlabel('Health')\n",
    "plt.xticks(rotation=90)\n",
    "plt.show()"
   ]
  },
  {
   "cell_type": "code",
   "execution_count": 86,
   "metadata": {},
   "outputs": [
    {
     "data": {
      "text/html": [
       "<div>\n",
       "<style scoped>\n",
       "    .dataframe tbody tr th:only-of-type {\n",
       "        vertical-align: middle;\n",
       "    }\n",
       "\n",
       "    .dataframe tbody tr th {\n",
       "        vertical-align: top;\n",
       "    }\n",
       "\n",
       "    .dataframe thead th {\n",
       "        text-align: right;\n",
       "    }\n",
       "</style>\n",
       "<table border=\"1\" class=\"dataframe\">\n",
       "  <thead>\n",
       "    <tr style=\"text-align: right;\">\n",
       "      <th></th>\n",
       "      <th>file</th>\n",
       "      <th>date</th>\n",
       "      <th>time</th>\n",
       "      <th>zip code</th>\n",
       "      <th>subspecies</th>\n",
       "      <th>health</th>\n",
       "      <th>pollen_carrying</th>\n",
       "      <th>caste</th>\n",
       "      <th>City</th>\n",
       "      <th>State</th>\n",
       "      <th>Country</th>\n",
       "      <th>is_healthy</th>\n",
       "    </tr>\n",
       "  </thead>\n",
       "  <tbody>\n",
       "    <tr>\n",
       "      <th>74</th>\n",
       "      <td>017_029.png</td>\n",
       "      <td>8/6/18</td>\n",
       "      <td>13:21</td>\n",
       "      <td>95070</td>\n",
       "      <td>Italian honey bee</td>\n",
       "      <td>healthy</td>\n",
       "      <td>False</td>\n",
       "      <td>worker</td>\n",
       "      <td>Saratoga</td>\n",
       "      <td>CA</td>\n",
       "      <td>USA</td>\n",
       "      <td>1</td>\n",
       "    </tr>\n",
       "    <tr>\n",
       "      <th>75</th>\n",
       "      <td>017_015.png</td>\n",
       "      <td>8/6/18</td>\n",
       "      <td>13:21</td>\n",
       "      <td>95070</td>\n",
       "      <td>Italian honey bee</td>\n",
       "      <td>healthy</td>\n",
       "      <td>False</td>\n",
       "      <td>worker</td>\n",
       "      <td>Saratoga</td>\n",
       "      <td>CA</td>\n",
       "      <td>USA</td>\n",
       "      <td>1</td>\n",
       "    </tr>\n",
       "    <tr>\n",
       "      <th>76</th>\n",
       "      <td>017_001.png</td>\n",
       "      <td>8/6/18</td>\n",
       "      <td>13:21</td>\n",
       "      <td>95070</td>\n",
       "      <td>Italian honey bee</td>\n",
       "      <td>healthy</td>\n",
       "      <td>False</td>\n",
       "      <td>worker</td>\n",
       "      <td>Saratoga</td>\n",
       "      <td>CA</td>\n",
       "      <td>USA</td>\n",
       "      <td>1</td>\n",
       "    </tr>\n",
       "    <tr>\n",
       "      <th>77</th>\n",
       "      <td>017_000.png</td>\n",
       "      <td>8/6/18</td>\n",
       "      <td>13:21</td>\n",
       "      <td>95070</td>\n",
       "      <td>Italian honey bee</td>\n",
       "      <td>healthy</td>\n",
       "      <td>False</td>\n",
       "      <td>worker</td>\n",
       "      <td>Saratoga</td>\n",
       "      <td>CA</td>\n",
       "      <td>USA</td>\n",
       "      <td>1</td>\n",
       "    </tr>\n",
       "    <tr>\n",
       "      <th>78</th>\n",
       "      <td>017_014.png</td>\n",
       "      <td>8/6/18</td>\n",
       "      <td>13:21</td>\n",
       "      <td>95070</td>\n",
       "      <td>Italian honey bee</td>\n",
       "      <td>healthy</td>\n",
       "      <td>False</td>\n",
       "      <td>worker</td>\n",
       "      <td>Saratoga</td>\n",
       "      <td>CA</td>\n",
       "      <td>USA</td>\n",
       "      <td>1</td>\n",
       "    </tr>\n",
       "    <tr>\n",
       "      <th>...</th>\n",
       "      <td>...</td>\n",
       "      <td>...</td>\n",
       "      <td>...</td>\n",
       "      <td>...</td>\n",
       "      <td>...</td>\n",
       "      <td>...</td>\n",
       "      <td>...</td>\n",
       "      <td>...</td>\n",
       "      <td>...</td>\n",
       "      <td>...</td>\n",
       "      <td>...</td>\n",
       "      <td>...</td>\n",
       "    </tr>\n",
       "    <tr>\n",
       "      <th>5164</th>\n",
       "      <td>027_010.png</td>\n",
       "      <td>8/20/18</td>\n",
       "      <td>10:03</td>\n",
       "      <td>95124</td>\n",
       "      <td>-1</td>\n",
       "      <td>healthy</td>\n",
       "      <td>False</td>\n",
       "      <td>worker</td>\n",
       "      <td>San Jose</td>\n",
       "      <td>CA</td>\n",
       "      <td>USA</td>\n",
       "      <td>1</td>\n",
       "    </tr>\n",
       "    <tr>\n",
       "      <th>5166</th>\n",
       "      <td>027_005.png</td>\n",
       "      <td>8/20/18</td>\n",
       "      <td>10:03</td>\n",
       "      <td>95124</td>\n",
       "      <td>-1</td>\n",
       "      <td>healthy</td>\n",
       "      <td>False</td>\n",
       "      <td>worker</td>\n",
       "      <td>San Jose</td>\n",
       "      <td>CA</td>\n",
       "      <td>USA</td>\n",
       "      <td>1</td>\n",
       "    </tr>\n",
       "    <tr>\n",
       "      <th>5169</th>\n",
       "      <td>027_013.png</td>\n",
       "      <td>8/20/18</td>\n",
       "      <td>10:03</td>\n",
       "      <td>95124</td>\n",
       "      <td>-1</td>\n",
       "      <td>healthy</td>\n",
       "      <td>False</td>\n",
       "      <td>worker</td>\n",
       "      <td>San Jose</td>\n",
       "      <td>CA</td>\n",
       "      <td>USA</td>\n",
       "      <td>1</td>\n",
       "    </tr>\n",
       "    <tr>\n",
       "      <th>5170</th>\n",
       "      <td>027_012.png</td>\n",
       "      <td>8/20/18</td>\n",
       "      <td>10:03</td>\n",
       "      <td>95124</td>\n",
       "      <td>-1</td>\n",
       "      <td>healthy</td>\n",
       "      <td>False</td>\n",
       "      <td>worker</td>\n",
       "      <td>San Jose</td>\n",
       "      <td>CA</td>\n",
       "      <td>USA</td>\n",
       "      <td>1</td>\n",
       "    </tr>\n",
       "    <tr>\n",
       "      <th>5171</th>\n",
       "      <td>027_014.png</td>\n",
       "      <td>8/20/18</td>\n",
       "      <td>10:03</td>\n",
       "      <td>95124</td>\n",
       "      <td>-1</td>\n",
       "      <td>healthy</td>\n",
       "      <td>False</td>\n",
       "      <td>worker</td>\n",
       "      <td>San Jose</td>\n",
       "      <td>CA</td>\n",
       "      <td>USA</td>\n",
       "      <td>1</td>\n",
       "    </tr>\n",
       "  </tbody>\n",
       "</table>\n",
       "<p>3367 rows × 12 columns</p>\n",
       "</div>"
      ],
      "text/plain": [
       "             file     date   time  zip code         subspecies   health  \\\n",
       "74    017_029.png   8/6/18  13:21     95070  Italian honey bee  healthy   \n",
       "75    017_015.png   8/6/18  13:21     95070  Italian honey bee  healthy   \n",
       "76    017_001.png   8/6/18  13:21     95070  Italian honey bee  healthy   \n",
       "77    017_000.png   8/6/18  13:21     95070  Italian honey bee  healthy   \n",
       "78    017_014.png   8/6/18  13:21     95070  Italian honey bee  healthy   \n",
       "...           ...      ...    ...       ...                ...      ...   \n",
       "5164  027_010.png  8/20/18  10:03     95124                 -1  healthy   \n",
       "5166  027_005.png  8/20/18  10:03     95124                 -1  healthy   \n",
       "5169  027_013.png  8/20/18  10:03     95124                 -1  healthy   \n",
       "5170  027_012.png  8/20/18  10:03     95124                 -1  healthy   \n",
       "5171  027_014.png  8/20/18  10:03     95124                 -1  healthy   \n",
       "\n",
       "      pollen_carrying   caste      City State Country  is_healthy  \n",
       "74              False  worker  Saratoga    CA     USA           1  \n",
       "75              False  worker  Saratoga    CA     USA           1  \n",
       "76              False  worker  Saratoga    CA     USA           1  \n",
       "77              False  worker  Saratoga    CA     USA           1  \n",
       "78              False  worker  Saratoga    CA     USA           1  \n",
       "...               ...     ...       ...   ...     ...         ...  \n",
       "5164            False  worker  San Jose    CA     USA           1  \n",
       "5166            False  worker  San Jose    CA     USA           1  \n",
       "5169            False  worker  San Jose    CA     USA           1  \n",
       "5170            False  worker  San Jose    CA     USA           1  \n",
       "5171            False  worker  San Jose    CA     USA           1  \n",
       "\n",
       "[3367 rows x 12 columns]"
      ]
     },
     "execution_count": 86,
     "metadata": {},
     "output_type": "execute_result"
    }
   ],
   "source": [
    "healthy_non_pollen = non_pollen.loc[non_pollen['is_healthy'] == 1]\n",
    "healthy_non_pollen"
   ]
  },
  {
   "cell_type": "code",
   "execution_count": 121,
   "metadata": {},
   "outputs": [
    {
     "data": {
      "image/png": "[encoded data removed]",
      "text/plain": [
       "<Figure size 576x432 with 1 Axes>"
      ]
     },
     "metadata": {
      "needs_background": "light"
     },
     "output_type": "display_data"
    }
   ],
   "source": [
    "plt.figure(figsize=(8,6))\n",
    "sns.countplot(hue=\"City\", x=\"subspecies\", data=healthy_non_pollen, palette=\"YlOrBr\")\n",
    "plt.title('Healthy Non-Pollen Carrying Bees by City')\n",
    "plt.xlabel('Health')\n",
    "plt.xticks(rotation=90)\n",
    "plt.show()"
   ]
  },
  {
   "cell_type": "code",
   "execution_count": 123,
   "metadata": {},
   "outputs": [
    {
     "data": {
      "image/png": "[encoded data removed]",
      "text/plain": [
       "<Figure size 576x432 with 1 Axes>"
      ]
     },
     "metadata": {
      "needs_background": "light"
     },
     "output_type": "display_data"
    }
   ],
   "source": [
    "plt.figure(figsize=(8,6))\n",
    "sns.countplot(x=\"subspecies\", data=healthy_non_pollen, palette=\"YlOrBr\")\n",
    "plt.title('Healthy Non-Pollen Carrying Bees')\n",
    "plt.xlabel('Health')\n",
    "plt.xticks(rotation=90)\n",
    "plt.show()"
   ]
  },
  {
   "cell_type": "markdown",
   "metadata": {},
   "source": [
    "### Saratoga, CA"
   ]
  },
  {
   "cell_type": "code",
   "execution_count": 93,
   "metadata": {},
   "outputs": [
    {
     "data": {
      "text/html": [
       "<div>\n",
       "<style scoped>\n",
       "    .dataframe tbody tr th:only-of-type {\n",
       "        vertical-align: middle;\n",
       "    }\n",
       "\n",
       "    .dataframe tbody tr th {\n",
       "        vertical-align: top;\n",
       "    }\n",
       "\n",
       "    .dataframe thead th {\n",
       "        text-align: right;\n",
       "    }\n",
       "</style>\n",
       "<table border=\"1\" class=\"dataframe\">\n",
       "  <thead>\n",
       "    <tr style=\"text-align: right;\">\n",
       "      <th></th>\n",
       "      <th>file</th>\n",
       "      <th>date</th>\n",
       "      <th>time</th>\n",
       "      <th>zip code</th>\n",
       "      <th>subspecies</th>\n",
       "      <th>health</th>\n",
       "      <th>pollen_carrying</th>\n",
       "      <th>caste</th>\n",
       "      <th>City</th>\n",
       "      <th>State</th>\n",
       "      <th>Country</th>\n",
       "      <th>is_healthy</th>\n",
       "    </tr>\n",
       "  </thead>\n",
       "  <tbody>\n",
       "    <tr>\n",
       "      <th>74</th>\n",
       "      <td>017_029.png</td>\n",
       "      <td>8/6/18</td>\n",
       "      <td>13:21</td>\n",
       "      <td>95070</td>\n",
       "      <td>Italian honey bee</td>\n",
       "      <td>healthy</td>\n",
       "      <td>False</td>\n",
       "      <td>worker</td>\n",
       "      <td>Saratoga</td>\n",
       "      <td>CA</td>\n",
       "      <td>USA</td>\n",
       "      <td>1</td>\n",
       "    </tr>\n",
       "    <tr>\n",
       "      <th>75</th>\n",
       "      <td>017_015.png</td>\n",
       "      <td>8/6/18</td>\n",
       "      <td>13:21</td>\n",
       "      <td>95070</td>\n",
       "      <td>Italian honey bee</td>\n",
       "      <td>healthy</td>\n",
       "      <td>False</td>\n",
       "      <td>worker</td>\n",
       "      <td>Saratoga</td>\n",
       "      <td>CA</td>\n",
       "      <td>USA</td>\n",
       "      <td>1</td>\n",
       "    </tr>\n",
       "    <tr>\n",
       "      <th>76</th>\n",
       "      <td>017_001.png</td>\n",
       "      <td>8/6/18</td>\n",
       "      <td>13:21</td>\n",
       "      <td>95070</td>\n",
       "      <td>Italian honey bee</td>\n",
       "      <td>healthy</td>\n",
       "      <td>False</td>\n",
       "      <td>worker</td>\n",
       "      <td>Saratoga</td>\n",
       "      <td>CA</td>\n",
       "      <td>USA</td>\n",
       "      <td>1</td>\n",
       "    </tr>\n",
       "    <tr>\n",
       "      <th>77</th>\n",
       "      <td>017_000.png</td>\n",
       "      <td>8/6/18</td>\n",
       "      <td>13:21</td>\n",
       "      <td>95070</td>\n",
       "      <td>Italian honey bee</td>\n",
       "      <td>healthy</td>\n",
       "      <td>False</td>\n",
       "      <td>worker</td>\n",
       "      <td>Saratoga</td>\n",
       "      <td>CA</td>\n",
       "      <td>USA</td>\n",
       "      <td>1</td>\n",
       "    </tr>\n",
       "    <tr>\n",
       "      <th>78</th>\n",
       "      <td>017_014.png</td>\n",
       "      <td>8/6/18</td>\n",
       "      <td>13:21</td>\n",
       "      <td>95070</td>\n",
       "      <td>Italian honey bee</td>\n",
       "      <td>healthy</td>\n",
       "      <td>False</td>\n",
       "      <td>worker</td>\n",
       "      <td>Saratoga</td>\n",
       "      <td>CA</td>\n",
       "      <td>USA</td>\n",
       "      <td>1</td>\n",
       "    </tr>\n",
       "  </tbody>\n",
       "</table>\n",
       "</div>"
      ],
      "text/plain": [
       "           file    date   time  zip code         subspecies   health  \\\n",
       "74  017_029.png  8/6/18  13:21     95070  Italian honey bee  healthy   \n",
       "75  017_015.png  8/6/18  13:21     95070  Italian honey bee  healthy   \n",
       "76  017_001.png  8/6/18  13:21     95070  Italian honey bee  healthy   \n",
       "77  017_000.png  8/6/18  13:21     95070  Italian honey bee  healthy   \n",
       "78  017_014.png  8/6/18  13:21     95070  Italian honey bee  healthy   \n",
       "\n",
       "    pollen_carrying   caste      City State Country  is_healthy  \n",
       "74            False  worker  Saratoga    CA     USA           1  \n",
       "75            False  worker  Saratoga    CA     USA           1  \n",
       "76            False  worker  Saratoga    CA     USA           1  \n",
       "77            False  worker  Saratoga    CA     USA           1  \n",
       "78            False  worker  Saratoga    CA     USA           1  "
      ]
     },
     "execution_count": 93,
     "metadata": {},
     "output_type": "execute_result"
    }
   ],
   "source": [
    "saratoga = df.loc[df['City'] == 'Saratoga']\n",
    "saratoga.head()"
   ]
  },
  {
   "cell_type": "code",
   "execution_count": 96,
   "metadata": {},
   "outputs": [
    {
     "data": {
      "image/png": "[encoded data removed]",
      "text/plain": [
       "<Figure size 576x432 with 1 Axes>"
      ]
     },
     "metadata": {
      "needs_background": "light"
     },
     "output_type": "display_data"
    }
   ],
   "source": [
    "plt.figure(figsize=(8,6))\n",
    "sns.countplot(x=\"subspecies\", data=saratoga, palette=\"YlOrBr\")\n",
    "plt.title('Saratoga Bees')\n",
    "plt.xlabel('Health')\n",
    "plt.xticks(rotation=90)\n",
    "plt.show()"
   ]
  },
  {
   "cell_type": "code",
   "execution_count": 98,
   "metadata": {},
   "outputs": [
    {
     "data": {
      "image/png": "[encoded data removed]",
      "text/plain": [
       "<Figure size 576x432 with 1 Axes>"
      ]
     },
     "metadata": {
      "needs_background": "light"
     },
     "output_type": "display_data"
    }
   ],
   "source": [
    "plt.figure(figsize=(8,6))\n",
    "sns.countplot(x=\"date\", hue='subspecies', data=saratoga, palette=\"YlOrBr\")\n",
    "plt.title('Saratoga Bees')\n",
    "plt.xlabel('Health')\n",
    "plt.xticks(rotation=90)\n",
    "plt.show()"
   ]
  },
  {
   "cell_type": "code",
   "execution_count": 101,
   "metadata": {},
   "outputs": [],
   "source": [
    "saratoga_8_6 = saratoga.loc[saratoga['date'] == '8/6/18']"
   ]
  },
  {
   "cell_type": "code",
   "execution_count": 104,
   "metadata": {},
   "outputs": [
    {
     "data": {
      "image/png": "[encoded data removed]",
      "text/plain": [
       "<Figure size 576x432 with 1 Axes>"
      ]
     },
     "metadata": {
      "needs_background": "light"
     },
     "output_type": "display_data"
    }
   ],
   "source": [
    "plt.figure(figsize=(8,6))\n",
    "sns.countplot(x=\"time\", data=saratoga_8_6, palette=\"YlOrBr\")\n",
    "plt.title('Saratoga Bees')\n",
    "plt.xlabel('Time')\n",
    "plt.xticks(rotation=90)\n",
    "plt.show()"
   ]
  },
  {
   "cell_type": "code",
   "execution_count": 106,
   "metadata": {},
   "outputs": [
    {
     "data": {
      "text/html": [
       "<div>\n",
       "<style scoped>\n",
       "    .dataframe tbody tr th:only-of-type {\n",
       "        vertical-align: middle;\n",
       "    }\n",
       "\n",
       "    .dataframe tbody tr th {\n",
       "        vertical-align: top;\n",
       "    }\n",
       "\n",
       "    .dataframe thead th {\n",
       "        text-align: right;\n",
       "    }\n",
       "</style>\n",
       "<table border=\"1\" class=\"dataframe\">\n",
       "  <thead>\n",
       "    <tr style=\"text-align: right;\">\n",
       "      <th></th>\n",
       "      <th>file</th>\n",
       "      <th>date</th>\n",
       "      <th>time</th>\n",
       "      <th>zip code</th>\n",
       "      <th>subspecies</th>\n",
       "      <th>health</th>\n",
       "      <th>pollen_carrying</th>\n",
       "      <th>caste</th>\n",
       "      <th>City</th>\n",
       "      <th>State</th>\n",
       "      <th>Country</th>\n",
       "      <th>is_healthy</th>\n",
       "    </tr>\n",
       "  </thead>\n",
       "  <tbody>\n",
       "    <tr>\n",
       "      <th>3287</th>\n",
       "      <td>015_1087.png</td>\n",
       "      <td>8/6/18</td>\n",
       "      <td>13:19</td>\n",
       "      <td>95070</td>\n",
       "      <td>Italian honey bee</td>\n",
       "      <td>healthy</td>\n",
       "      <td>False</td>\n",
       "      <td>worker</td>\n",
       "      <td>Saratoga</td>\n",
       "      <td>CA</td>\n",
       "      <td>USA</td>\n",
       "      <td>1</td>\n",
       "    </tr>\n",
       "    <tr>\n",
       "      <th>3377</th>\n",
       "      <td>015_826.png</td>\n",
       "      <td>8/6/18</td>\n",
       "      <td>13:19</td>\n",
       "      <td>95070</td>\n",
       "      <td>Italian honey bee</td>\n",
       "      <td>healthy</td>\n",
       "      <td>False</td>\n",
       "      <td>worker</td>\n",
       "      <td>Saratoga</td>\n",
       "      <td>CA</td>\n",
       "      <td>USA</td>\n",
       "      <td>1</td>\n",
       "    </tr>\n",
       "    <tr>\n",
       "      <th>3171</th>\n",
       "      <td>015_886.png</td>\n",
       "      <td>8/6/18</td>\n",
       "      <td>13:19</td>\n",
       "      <td>95070</td>\n",
       "      <td>Italian honey bee</td>\n",
       "      <td>healthy</td>\n",
       "      <td>False</td>\n",
       "      <td>worker</td>\n",
       "      <td>Saratoga</td>\n",
       "      <td>CA</td>\n",
       "      <td>USA</td>\n",
       "      <td>1</td>\n",
       "    </tr>\n",
       "    <tr>\n",
       "      <th>3304</th>\n",
       "      <td>015_507.png</td>\n",
       "      <td>8/6/18</td>\n",
       "      <td>13:19</td>\n",
       "      <td>95070</td>\n",
       "      <td>Italian honey bee</td>\n",
       "      <td>healthy</td>\n",
       "      <td>False</td>\n",
       "      <td>worker</td>\n",
       "      <td>Saratoga</td>\n",
       "      <td>CA</td>\n",
       "      <td>USA</td>\n",
       "      <td>1</td>\n",
       "    </tr>\n",
       "    <tr>\n",
       "      <th>3398</th>\n",
       "      <td>015_760.png</td>\n",
       "      <td>8/6/18</td>\n",
       "      <td>13:19</td>\n",
       "      <td>95070</td>\n",
       "      <td>Italian honey bee</td>\n",
       "      <td>healthy</td>\n",
       "      <td>False</td>\n",
       "      <td>worker</td>\n",
       "      <td>Saratoga</td>\n",
       "      <td>CA</td>\n",
       "      <td>USA</td>\n",
       "      <td>1</td>\n",
       "    </tr>\n",
       "    <tr>\n",
       "      <th>3276</th>\n",
       "      <td>015_466.png</td>\n",
       "      <td>8/6/18</td>\n",
       "      <td>13:19</td>\n",
       "      <td>95070</td>\n",
       "      <td>Italian honey bee</td>\n",
       "      <td>healthy</td>\n",
       "      <td>False</td>\n",
       "      <td>worker</td>\n",
       "      <td>Saratoga</td>\n",
       "      <td>CA</td>\n",
       "      <td>USA</td>\n",
       "      <td>1</td>\n",
       "    </tr>\n",
       "    <tr>\n",
       "      <th>3273</th>\n",
       "      <td>015_499.png</td>\n",
       "      <td>8/6/18</td>\n",
       "      <td>13:19</td>\n",
       "      <td>95070</td>\n",
       "      <td>Italian honey bee</td>\n",
       "      <td>healthy</td>\n",
       "      <td>False</td>\n",
       "      <td>worker</td>\n",
       "      <td>Saratoga</td>\n",
       "      <td>CA</td>\n",
       "      <td>USA</td>\n",
       "      <td>1</td>\n",
       "    </tr>\n",
       "    <tr>\n",
       "      <th>3371</th>\n",
       "      <td>015_470.png</td>\n",
       "      <td>8/6/18</td>\n",
       "      <td>13:19</td>\n",
       "      <td>95070</td>\n",
       "      <td>Italian honey bee</td>\n",
       "      <td>healthy</td>\n",
       "      <td>False</td>\n",
       "      <td>worker</td>\n",
       "      <td>Saratoga</td>\n",
       "      <td>CA</td>\n",
       "      <td>USA</td>\n",
       "      <td>1</td>\n",
       "    </tr>\n",
       "    <tr>\n",
       "      <th>3477</th>\n",
       "      <td>015_766.png</td>\n",
       "      <td>8/6/18</td>\n",
       "      <td>13:19</td>\n",
       "      <td>95070</td>\n",
       "      <td>Italian honey bee</td>\n",
       "      <td>healthy</td>\n",
       "      <td>False</td>\n",
       "      <td>worker</td>\n",
       "      <td>Saratoga</td>\n",
       "      <td>CA</td>\n",
       "      <td>USA</td>\n",
       "      <td>1</td>\n",
       "    </tr>\n",
       "    <tr>\n",
       "      <th>3516</th>\n",
       "      <td>015_1151.png</td>\n",
       "      <td>8/6/18</td>\n",
       "      <td>13:19</td>\n",
       "      <td>95070</td>\n",
       "      <td>Italian honey bee</td>\n",
       "      <td>healthy</td>\n",
       "      <td>False</td>\n",
       "      <td>worker</td>\n",
       "      <td>Saratoga</td>\n",
       "      <td>CA</td>\n",
       "      <td>USA</td>\n",
       "      <td>1</td>\n",
       "    </tr>\n",
       "    <tr>\n",
       "      <th>3557</th>\n",
       "      <td>015_757.png</td>\n",
       "      <td>8/6/18</td>\n",
       "      <td>13:19</td>\n",
       "      <td>95070</td>\n",
       "      <td>Italian honey bee</td>\n",
       "      <td>healthy</td>\n",
       "      <td>False</td>\n",
       "      <td>worker</td>\n",
       "      <td>Saratoga</td>\n",
       "      <td>CA</td>\n",
       "      <td>USA</td>\n",
       "      <td>1</td>\n",
       "    </tr>\n",
       "    <tr>\n",
       "      <th>3485</th>\n",
       "      <td>015_1191.png</td>\n",
       "      <td>8/6/18</td>\n",
       "      <td>13:19</td>\n",
       "      <td>95070</td>\n",
       "      <td>Italian honey bee</td>\n",
       "      <td>healthy</td>\n",
       "      <td>False</td>\n",
       "      <td>worker</td>\n",
       "      <td>Saratoga</td>\n",
       "      <td>CA</td>\n",
       "      <td>USA</td>\n",
       "      <td>1</td>\n",
       "    </tr>\n",
       "    <tr>\n",
       "      <th>3492</th>\n",
       "      <td>015_610.png</td>\n",
       "      <td>8/6/18</td>\n",
       "      <td>13:19</td>\n",
       "      <td>95070</td>\n",
       "      <td>Italian honey bee</td>\n",
       "      <td>healthy</td>\n",
       "      <td>False</td>\n",
       "      <td>worker</td>\n",
       "      <td>Saratoga</td>\n",
       "      <td>CA</td>\n",
       "      <td>USA</td>\n",
       "      <td>1</td>\n",
       "    </tr>\n",
       "    <tr>\n",
       "      <th>3168</th>\n",
       "      <td>015_851.png</td>\n",
       "      <td>8/6/18</td>\n",
       "      <td>13:19</td>\n",
       "      <td>95070</td>\n",
       "      <td>Italian honey bee</td>\n",
       "      <td>healthy</td>\n",
       "      <td>False</td>\n",
       "      <td>worker</td>\n",
       "      <td>Saratoga</td>\n",
       "      <td>CA</td>\n",
       "      <td>USA</td>\n",
       "      <td>1</td>\n",
       "    </tr>\n",
       "    <tr>\n",
       "      <th>3535</th>\n",
       "      <td>015_999.png</td>\n",
       "      <td>8/6/18</td>\n",
       "      <td>13:19</td>\n",
       "      <td>95070</td>\n",
       "      <td>Italian honey bee</td>\n",
       "      <td>healthy</td>\n",
       "      <td>False</td>\n",
       "      <td>worker</td>\n",
       "      <td>Saratoga</td>\n",
       "      <td>CA</td>\n",
       "      <td>USA</td>\n",
       "      <td>1</td>\n",
       "    </tr>\n",
       "    <tr>\n",
       "      <th>3423</th>\n",
       "      <td>015_986.png</td>\n",
       "      <td>8/6/18</td>\n",
       "      <td>13:19</td>\n",
       "      <td>95070</td>\n",
       "      <td>Italian honey bee</td>\n",
       "      <td>healthy</td>\n",
       "      <td>False</td>\n",
       "      <td>worker</td>\n",
       "      <td>Saratoga</td>\n",
       "      <td>CA</td>\n",
       "      <td>USA</td>\n",
       "      <td>1</td>\n",
       "    </tr>\n",
       "    <tr>\n",
       "      <th>3169</th>\n",
       "      <td>015_1122.png</td>\n",
       "      <td>8/6/18</td>\n",
       "      <td>13:19</td>\n",
       "      <td>95070</td>\n",
       "      <td>Italian honey bee</td>\n",
       "      <td>healthy</td>\n",
       "      <td>False</td>\n",
       "      <td>worker</td>\n",
       "      <td>Saratoga</td>\n",
       "      <td>CA</td>\n",
       "      <td>USA</td>\n",
       "      <td>1</td>\n",
       "    </tr>\n",
       "    <tr>\n",
       "      <th>3375</th>\n",
       "      <td>015_417.png</td>\n",
       "      <td>8/6/18</td>\n",
       "      <td>13:19</td>\n",
       "      <td>95070</td>\n",
       "      <td>Italian honey bee</td>\n",
       "      <td>healthy</td>\n",
       "      <td>False</td>\n",
       "      <td>worker</td>\n",
       "      <td>Saratoga</td>\n",
       "      <td>CA</td>\n",
       "      <td>USA</td>\n",
       "      <td>1</td>\n",
       "    </tr>\n",
       "    <tr>\n",
       "      <th>3243</th>\n",
       "      <td>015_259.png</td>\n",
       "      <td>8/6/18</td>\n",
       "      <td>13:19</td>\n",
       "      <td>95070</td>\n",
       "      <td>Italian honey bee</td>\n",
       "      <td>healthy</td>\n",
       "      <td>False</td>\n",
       "      <td>worker</td>\n",
       "      <td>Saratoga</td>\n",
       "      <td>CA</td>\n",
       "      <td>USA</td>\n",
       "      <td>1</td>\n",
       "    </tr>\n",
       "    <tr>\n",
       "      <th>3225</th>\n",
       "      <td>015_463.png</td>\n",
       "      <td>8/6/18</td>\n",
       "      <td>13:19</td>\n",
       "      <td>95070</td>\n",
       "      <td>Italian honey bee</td>\n",
       "      <td>healthy</td>\n",
       "      <td>False</td>\n",
       "      <td>worker</td>\n",
       "      <td>Saratoga</td>\n",
       "      <td>CA</td>\n",
       "      <td>USA</td>\n",
       "      <td>1</td>\n",
       "    </tr>\n",
       "  </tbody>\n",
       "</table>\n",
       "</div>"
      ],
      "text/plain": [
       "              file    date   time  zip code         subspecies   health  \\\n",
       "3287  015_1087.png  8/6/18  13:19     95070  Italian honey bee  healthy   \n",
       "3377   015_826.png  8/6/18  13:19     95070  Italian honey bee  healthy   \n",
       "3171   015_886.png  8/6/18  13:19     95070  Italian honey bee  healthy   \n",
       "3304   015_507.png  8/6/18  13:19     95070  Italian honey bee  healthy   \n",
       "3398   015_760.png  8/6/18  13:19     95070  Italian honey bee  healthy   \n",
       "3276   015_466.png  8/6/18  13:19     95070  Italian honey bee  healthy   \n",
       "3273   015_499.png  8/6/18  13:19     95070  Italian honey bee  healthy   \n",
       "3371   015_470.png  8/6/18  13:19     95070  Italian honey bee  healthy   \n",
       "3477   015_766.png  8/6/18  13:19     95070  Italian honey bee  healthy   \n",
       "3516  015_1151.png  8/6/18  13:19     95070  Italian honey bee  healthy   \n",
       "3557   015_757.png  8/6/18  13:19     95070  Italian honey bee  healthy   \n",
       "3485  015_1191.png  8/6/18  13:19     95070  Italian honey bee  healthy   \n",
       "3492   015_610.png  8/6/18  13:19     95070  Italian honey bee  healthy   \n",
       "3168   015_851.png  8/6/18  13:19     95070  Italian honey bee  healthy   \n",
       "3535   015_999.png  8/6/18  13:19     95070  Italian honey bee  healthy   \n",
       "3423   015_986.png  8/6/18  13:19     95070  Italian honey bee  healthy   \n",
       "3169  015_1122.png  8/6/18  13:19     95070  Italian honey bee  healthy   \n",
       "3375   015_417.png  8/6/18  13:19     95070  Italian honey bee  healthy   \n",
       "3243   015_259.png  8/6/18  13:19     95070  Italian honey bee  healthy   \n",
       "3225   015_463.png  8/6/18  13:19     95070  Italian honey bee  healthy   \n",
       "\n",
       "      pollen_carrying   caste      City State Country  is_healthy  \n",
       "3287            False  worker  Saratoga    CA     USA           1  \n",
       "3377            False  worker  Saratoga    CA     USA           1  \n",
       "3171            False  worker  Saratoga    CA     USA           1  \n",
       "3304            False  worker  Saratoga    CA     USA           1  \n",
       "3398            False  worker  Saratoga    CA     USA           1  \n",
       "3276            False  worker  Saratoga    CA     USA           1  \n",
       "3273            False  worker  Saratoga    CA     USA           1  \n",
       "3371            False  worker  Saratoga    CA     USA           1  \n",
       "3477            False  worker  Saratoga    CA     USA           1  \n",
       "3516            False  worker  Saratoga    CA     USA           1  \n",
       "3557            False  worker  Saratoga    CA     USA           1  \n",
       "3485            False  worker  Saratoga    CA     USA           1  \n",
       "3492            False  worker  Saratoga    CA     USA           1  \n",
       "3168            False  worker  Saratoga    CA     USA           1  \n",
       "3535            False  worker  Saratoga    CA     USA           1  \n",
       "3423            False  worker  Saratoga    CA     USA           1  \n",
       "3169            False  worker  Saratoga    CA     USA           1  \n",
       "3375            False  worker  Saratoga    CA     USA           1  \n",
       "3243            False  worker  Saratoga    CA     USA           1  \n",
       "3225            False  worker  Saratoga    CA     USA           1  "
      ]
     },
     "execution_count": 106,
     "metadata": {},
     "output_type": "execute_result"
    }
   ],
   "source": [
    "(saratoga_8_6.loc[saratoga_8_6['time'] == '13:19']).sample(20)"
   ]
  },
  {
   "cell_type": "code",
   "execution_count": null,
   "metadata": {},
   "outputs": [],
   "source": []
  }
 ],
 "metadata": {
  "kernelspec": {
   "display_name": "Python 3",
   "language": "python",
   "name": "python3"
  },
  "language_info": {
   "codemirror_mode": {
    "name": "ipython",
    "version": 3
   },
   "file_extension": ".py",
   "mimetype": "text/x-python",
   "name": "python",
   "nbconvert_exporter": "python",
   "pygments_lexer": "ipython3",
   "version": "3.7.6"
  }
 },
 "nbformat": 4,
 "nbformat_minor": 2
}
